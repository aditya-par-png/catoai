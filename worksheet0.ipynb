{
 "cells": [
  {
   "cell_type": "code",
   "execution_count": 19,
   "id": "0442fba4-746a-4f45-aa2c-126e1820aa05",
   "metadata": {},
   "outputs": [
    {
     "name": "stdout",
     "output_type": "stream",
     "text": [
      "Cold temperatures: [8.2, 7.9, 9.0, 8.5, 7.7, 8.4, 9.5, 8.1, 7.6, 8.0, 7.8, 8.7, 9.2, 8.3, 8.9, 7.8]\n",
      "Mild temperatures: [14.1, 13.5, 13.0, 12.9, 13.3, 14.0, 13.4, 14.2, 12.8, 13.7, 13.6, 13.8, 13.9, 12.7, 13.1, 12.5]\n",
      "Comfortable temperatures: [17.4, 18.0, 17.8, 16.5, 17.2, 16.7, 18.3, 17.9, 17.0, 16.8, 17.5, 17.1, 18.1, 16.4, 18.2, 16.6]\n",
      "Number of times it was mild: 16\n",
      "Number of times it was comfortable: 16\n",
      "Number of times it was cold: 16\n",
      "Temperatures in Fahrenheit: [46.76, 63.32, 57.379999999999995, 46.22, 64.4, 56.3, 48.2, 64.04, 55.4, 47.3, 61.7, 55.22, 45.86, 62.959999999999994, 55.94, 47.120000000000005, 62.059999999999995, 57.2, 49.1, 64.94, 56.120000000000005, 46.58, 64.22, 57.56, 45.68, 62.6, 55.04, 46.4, 62.24, 56.66, 46.04, 63.5, 56.48, 47.66, 62.78, 56.84, 48.56, 64.58, 57.02, 46.94, 61.519999999999996, 54.86, 48.02, 64.75999999999999, 55.58, 46.04, 61.88, 54.5]\n",
      "Average daytime temperature: 13.643749999999999\n"
     ]
    }
   ],
   "source": [
    "temperatures = [8.2, 17.4, 14.1, 7.9, 18.0, 13.5, 9.0, 17.8, 13.0, 8.5,\n",
    "16.5, 12.9, 7.7, 17.2, 13.3, 8.4, 16.7, 14.0, 9.5, 18.3, 13.4, 8.1,\n",
    "17.9, 14.2, 7.6, 17.0, 12.8, 8.0, 16.8, 13.7, 7.8, 17.5, 13.6, 8.7,\n",
    "17.1, 13.8, 9.2, 18.1, 13.9, 8.3, 16.4, 12.7, 8.9, 18.2, 13.1, 7.8,\n",
    "16.6, 12.5]\n",
    "   \n",
    "cold = []\n",
    "mild = []\n",
    "comfortable = []\n",
    "\n",
    "for temp in temperatures:\n",
    "    if (temp < 10):\n",
    "        cold.append(temp)\n",
    "    elif (temp >= 10 and temp < 15):  \n",
    "        mild.append(temp)\n",
    "    elif (temp >= 15 and temp < 20):\n",
    "        comfortable.append(temp)\n",
    "        \n",
    "print(\"Cold temperatures:\", cold)\n",
    "print(\"Mild temperatures:\", mild)\n",
    "print(\"Comfortable temperatures:\", comfortable)\n",
    "\n",
    "mild_number = len(mild)\n",
    "comfortable_number = len(comfortable)\n",
    "cold_number = len(cold)\n",
    "\n",
    "print(\"Number of times it was mild:\", mild_number)\n",
    "print(\"Number of times it was comfortable:\", comfortable_number)\n",
    "print(\"Number of times it was cold:\", cold_number)\n",
    "\n",
    "temperatures_fahrenheit = [(temp * 9 / 5) + 32 for temp in temperatures]\n",
    "print(\"Temperatures in Fahrenheit:\", temperatures_fahrenheit)\n",
    "\n",
    "night = []\n",
    "evening = []\n",
    "day = []\n",
    "\n",
    "# Distribute temperatures by time of day\n",
    "for i, temp in enumerate(temperatures):\n",
    "    if i % 24 < 8:  # Night (00-08)\n",
    "        night.append(temp)\n",
    "    elif 8 <= i % 24 < 16:  # Evening (08-16)\n",
    "        evening.append(temp)\n",
    "    else:  # Day (16-24)\n",
    "        day.append(temp)\n",
    "\n",
    "# Calculate the average daytime temperature\n",
    "average_day_temp = sum(day) / len(day) if day else 0\n",
    "print(\"Average daytime temperature:\", average_day_temp)\n"
   ]
  },
  {
   "cell_type": "code",
   "execution_count": 28,
   "id": "a0049f1a-00cb-46c2-a67c-b21567d74c51",
   "metadata": {},
   "outputs": [
    {
     "name": "stdout",
     "output_type": "stream",
     "text": [
      "Sum of all numbers in the nested list: 36\n"
     ]
    }
   ],
   "source": [
    "def sum_nested_list(nested_list):\n",
    "    \"\"\"\n",
    "    Recursively sums all numbers in a nested list.\n",
    "    \n",
    "    :param nested_list: List containing numbers or other lists of numbers\n",
    "    :return: Total sum of all numbers\n",
    "    \"\"\"\n",
    "    total = 0\n",
    "    for item in nested_list:\n",
    "        if isinstance(item, list):  # If the item is a list, recurse into it\n",
    "            total += sum_nested_list(item)\n",
    "        else:  # If the item is a number, add it to the total\n",
    "            total += item\n",
    "    return total\n",
    "\n",
    "# Test the function with a sample nested list\n",
    "nested_list = [1, [2, [3, 4], 5], 6, [7, 8]]\n",
    "result = sum_nested_list(nested_list)\n",
    "print(\"Sum of all numbers in the nested list:\", result)\n"
   ]
  },
  {
   "cell_type": "code",
   "execution_count": 30,
   "id": "defadb74-8c13-4fdc-8bdf-8c9250194af7",
   "metadata": {},
   "outputs": [
    {
     "name": "stdout",
     "output_type": "stream",
     "text": [
      "['abc', 'cab', 'bca', 'bac', 'acb', 'cba']\n",
      "['aab', 'baa', 'aba']\n"
     ]
    }
   ],
   "source": [
    "def generate_permutations(s):\n",
    "    \"\"\"\n",
    "    Generates all unique permutations of the string s.\n",
    "    \n",
    "    :param s: The input string\n",
    "    :return: List of all unique permutations\n",
    "    \"\"\"\n",
    "    def backtrack(start, s_list, result):\n",
    "        # Base case: if the start index reaches the length of the string\n",
    "        if start == len(s_list):\n",
    "            result.append(\"\".join(s_list))\n",
    "            return\n",
    "        \n",
    "        for i in range(start, len(s_list)):\n",
    "            # Swap the current index with the start index to create a new permutation\n",
    "            s_list[start], s_list[i] = s_list[i], s_list[start]\n",
    "            # Recur for the next index\n",
    "            backtrack(start + 1, s_list, result)\n",
    "            # Backtrack (swap the elements back)\n",
    "            s_list[start], s_list[i] = s_list[i], s_list[start]\n",
    "    \n",
    "    result = []\n",
    "    s_list = list(s)  # Convert the string to a list for easier manipulation\n",
    "    backtrack(0, s_list, result)\n",
    "    \n",
    "    return list(set(result))  # Remove duplicates and return the result as a list\n",
    "\n",
    "# Test the function with the string \"abc\"\n",
    "print(generate_permutations(\"abc\"))  # Expected output: ['abc', 'acb', 'bac', 'bca', 'cab', 'cba']\n",
    "\n",
    "# Test with a string containing repeated characters \"aab\"\n",
    "print(generate_permutations(\"aab\"))  # Expected output: ['aab', 'aba', 'baa']\n"
   ]
  },
  {
   "cell_type": "code",
   "execution_count": 32,
   "id": "9e34d113-cc06-4da5-a471-f740694e7a55",
   "metadata": {},
   "outputs": [
    {
     "name": "stdout",
     "output_type": "stream",
     "text": [
      "Total size of the directory: 1400 KB\n"
     ]
    }
   ],
   "source": [
    "def calculate_directory_size(directory):\n",
    "    \"\"\"\n",
    "    Recursively calculates the total size of a directory, including all nested files and subdirectories.\n",
    "    \n",
    "    :param directory: A dictionary representing a directory structure.\n",
    "    :return: The total size of the directory (in KB).\n",
    "    \"\"\"\n",
    "    total_size = 0\n",
    "    \n",
    "    for item, value in directory.items():\n",
    "        if isinstance(value, dict):  # If the value is a subdirectory, recurse into it\n",
    "            total_size += calculate_directory_size(value)\n",
    "        else:  # If the value is a file, add its size to the total\n",
    "            total_size += value\n",
    "            \n",
    "    return total_size\n",
    "\n",
    "\n",
    "# Sample directory structure\n",
    "directory_structure = {\n",
    "    \"file1.txt\": 200,\n",
    "    \"file2.txt\": 300,\n",
    "    \"subdir1\": {\n",
    "        \"file3.txt\": 400,\n",
    "        \"file4.txt\": 100\n",
    "    },\n",
    "    \"subdir2\": {\n",
    "        \"subsubdir1\": {\n",
    "            \"file5.txt\": 250\n",
    "        },\n",
    "        \"file6.txt\": 150\n",
    "    }\n",
    "}\n",
    "\n",
    "# Test the function with the sample directory structure\n",
    "total_size = calculate_directory_size(directory_structure)\n",
    "print(f\"Total size of the directory: {total_size} KB\")\n"
   ]
  },
  {
   "cell_type": "code",
   "execution_count": 34,
   "id": "c8aaf749-dd00-437e-9736-c4a6d4e3af8a",
   "metadata": {},
   "outputs": [
    {
     "name": "stdout",
     "output_type": "stream",
     "text": [
      "The minimum number of coins needed to make 11 is: 3\n"
     ]
    }
   ],
   "source": [
    "def min_coins(coins, amount):\n",
    "    \"\"\"\n",
    "    Finds the minimum number of coins needed to make up the given amount using the given coin denominations.\n",
    "    \n",
    "    :param coins: List of coin denominations\n",
    "    :param amount: The target amount\n",
    "    :return: The minimum number of coins required, or -1 if it is not possible to make the amount\n",
    "    \"\"\"\n",
    "    # Initialize dp array where dp[i] is the minimum number of coins needed for amount i\n",
    "    dp = [float('inf')] * (amount + 1)  # Set to infinity initially\n",
    "    dp[0] = 0  # Base case: 0 coins are needed to make 0 amount\n",
    "    \n",
    "    # Iterate over each coin\n",
    "    for coin in coins:\n",
    "        for i in range(coin, amount + 1):\n",
    "            dp[i] = min(dp[i], dp[i - coin] + 1)\n",
    "    \n",
    "    # If dp[amount] is still infinity, it means we can't make that amount with the given coins\n",
    "    return dp[amount] if dp[amount] != float('inf') else -1\n",
    "\n",
    "# Test the function with coins = [1, 2, 5] and amount = 11\n",
    "coins = [1, 2, 5]\n",
    "amount = 11\n",
    "result = min_coins(coins, amount)\n",
    "print(f\"The minimum number of coins needed to make {amount} is: {result}\")\n"
   ]
  },
  {
   "cell_type": "code",
   "execution_count": 36,
   "id": "a89fa70e-325d-4549-9ed1-08e064cf538d",
   "metadata": {},
   "outputs": [
    {
     "name": "stdout",
     "output_type": "stream",
     "text": [
      "The length of the LCS between 'abcde' and 'ace' is: 3\n"
     ]
    }
   ],
   "source": [
    "def longest_common_subsequence(s1, s2):\n",
    "    \"\"\"\n",
    "    Finds the length of the longest common subsequence (LCS) between two strings using dynamic programming.\n",
    "    \n",
    "    :param s1: First string\n",
    "    :param s2: Second string\n",
    "    :return: Length of the longest common subsequence\n",
    "    \"\"\"\n",
    "    # Create a 2D DP table with dimensions (len(s1)+1) x (len(s2)+1)\n",
    "    dp = [[0] * (len(s2) + 1) for _ in range(len(s1) + 1)]\n",
    "    \n",
    "    # Fill the DP table\n",
    "    for i in range(1, len(s1) + 1):\n",
    "        for j in range(1, len(s2) + 1):\n",
    "            if s1[i - 1] == s2[j - 1]:  # Characters match\n",
    "                dp[i][j] = dp[i - 1][j - 1] + 1\n",
    "            else:  # Characters don't match\n",
    "                dp[i][j] = max(dp[i - 1][j], dp[i][j - 1])\n",
    "    \n",
    "    # The value at dp[len(s1)][len(s2)] will contain the length of the LCS\n",
    "    return dp[len(s1)][len(s2)]\n",
    "\n",
    "# Test the function with the strings \"abcde\" and \"ace\"\n",
    "s1 = \"abcde\"\n",
    "s2 = \"ace\"\n",
    "result = longest_common_subsequence(s1, s2)\n",
    "print(f\"The length of the LCS between '{s1}' and '{s2}' is: {result}\")\n"
   ]
  },
  {
   "cell_type": "code",
   "execution_count": 38,
   "id": "bab2f876-04ba-4172-bb85-571c7ccb4e5f",
   "metadata": {},
   "outputs": [
    {
     "name": "stdout",
     "output_type": "stream",
     "text": [
      "The maximum value that can be carried within a capacity of 7 is: 9\n"
     ]
    }
   ],
   "source": [
    "def knapsack(weights, values, capacity):\n",
    "    \"\"\"\n",
    "    Solves the 0/1 Knapsack problem using dynamic programming.\n",
    "    \n",
    "    :param weights: List of item weights\n",
    "    :param values: List of item values\n",
    "    :param capacity: The maximum weight capacity of the knapsack\n",
    "    :return: The maximum value that can be obtained within the given capacity\n",
    "    \"\"\"\n",
    "    # Number of items\n",
    "    n = len(weights)\n",
    "    \n",
    "    # Create a DP table with dimensions (n+1) x (capacity+1)\n",
    "    dp = [[0] * (capacity + 1) for _ in range(n + 1)]\n",
    "    \n",
    "    # Build the DP table\n",
    "    for i in range(1, n + 1):\n",
    "        for w in range(1, capacity + 1):\n",
    "            if weights[i - 1] <= w:  # If the item can fit in the knapsack\n",
    "                dp[i][w] = max(dp[i - 1][w], dp[i - 1][w - weights[i - 1]] + values[i - 1])\n",
    "            else:  # If the item cannot fit in the knapsack\n",
    "                dp[i][w] = dp[i - 1][w]\n",
    "    \n",
    "    # The value in dp[n][capacity] will be the maximum value we can achieve\n",
    "    return dp[n][capacity]\n",
    "\n",
    "# Test the function with weights [1, 3, 4, 5], values [1, 4, 5, 7], and capacity 7\n",
    "weights = [1, 3, 4, 5]\n",
    "values = [1, 4, 5, 7]\n",
    "capacity = 7\n",
    "\n",
    "result = knapsack(weights, values, capacity)\n",
    "print(f\"The maximum value that can be carried within a capacity of {capacity} is: {result}\")\n"
   ]
  },
  {
   "cell_type": "code",
   "execution_count": null,
   "id": "a881be2a-e8c1-497f-9b5c-b7007a1666d2",
   "metadata": {},
   "outputs": [],
   "source": []
  }
 ],
 "metadata": {
  "kernelspec": {
   "display_name": "Python 3 (ipykernel)",
   "language": "python",
   "name": "python3"
  },
  "language_info": {
   "codemirror_mode": {
    "name": "ipython",
    "version": 3
   },
   "file_extension": ".py",
   "mimetype": "text/x-python",
   "name": "python",
   "nbconvert_exporter": "python",
   "pygments_lexer": "ipython3",
   "version": "3.12.7"
  }
 },
 "nbformat": 4,
 "nbformat_minor": 5
}
