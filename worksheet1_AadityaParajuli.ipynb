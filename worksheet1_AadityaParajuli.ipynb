{
  "nbformat": 4,
  "nbformat_minor": 0,
  "metadata": {
    "colab": {
      "provenance": []
    },
    "kernelspec": {
      "name": "python3",
      "display_name": "Python 3"
    },
    "language_info": {
      "name": "python"
    }
  },
  "cells": [
    {
      "cell_type": "markdown",
      "source": [
        "Aaditya Parajuli"
      ],
      "metadata": {
        "id": "SEWS2WUFk7ns"
      }
    },
    {
      "cell_type": "markdown",
      "source": [
        "4.1 Warm Up Exercise: Basic Vector and Matrix Operation with Numpy."
      ],
      "metadata": {
        "id": "WFwizKwuk9fo"
      }
    },
    {
      "cell_type": "markdown",
      "source": [
        "4.1 Initializing an empty array with size 2X2.\n",
        "\n",
        "\n"
      ],
      "metadata": {
        "id": "eiCEwlgElBk0"
      }
    },
    {
      "cell_type": "code",
      "source": [
        "import numpy as np\n",
        "\n",
        "array_1=np.empty((2,2))\n",
        "print(array_1)"
      ],
      "metadata": {
        "colab": {
          "base_uri": "https://localhost:8080/"
        },
        "id": "Jsu4DLaUlGxU",
        "outputId": "e090ab9c-3248-47f0-b7ec-17672a55d046"
      },
      "execution_count": null,
      "outputs": [
        {
          "output_type": "stream",
          "name": "stdout",
          "text": [
            "[[2.8449169e-316 0.0000000e+000]\n",
            " [0.0000000e+000 0.0000000e+000]]\n"
          ]
        }
      ]
    },
    {
      "cell_type": "markdown",
      "source": [
        "4.2 Initializing all one array with size 4X2."
      ],
      "metadata": {
        "id": "YclAqtpzsA1E"
      }
    },
    {
      "cell_type": "code",
      "source": [
        "array_2=np.ones((4, 2))\n",
        "print(array_2)"
      ],
      "metadata": {
        "colab": {
          "base_uri": "https://localhost:8080/"
        },
        "id": "vpLaDsy9sFuL",
        "outputId": "c996385e-0e1c-4466-cb32-ef9a99fa639e"
      },
      "execution_count": null,
      "outputs": [
        {
          "output_type": "stream",
          "name": "stdout",
          "text": [
            "[[1. 1.]\n",
            " [1. 1.]\n",
            " [1. 1.]\n",
            " [1. 1.]]\n"
          ]
        }
      ]
    },
    {
      "cell_type": "markdown",
      "source": [
        "**4.3** Returned a new array of given shape,type filled with fill value"
      ],
      "metadata": {
        "id": "MHMSVWo1sKJl"
      }
    },
    {
      "cell_type": "code",
      "source": [
        "array_3=np.full((2,7),fill_value=15)\n",
        "print(array_3)"
      ],
      "metadata": {
        "colab": {
          "base_uri": "https://localhost:8080/"
        },
        "id": "S7RLUf6wsOtt",
        "outputId": "dce333d5-42a1-4ec5-c3ad-a6613876020f"
      },
      "execution_count": null,
      "outputs": [
        {
          "output_type": "stream",
          "name": "stdout",
          "text": [
            "[[15 15 15 15 15 15 15]\n",
            " [15 15 15 15 15 15 15]]\n"
          ]
        }
      ]
    },
    {
      "cell_type": "markdown",
      "source": [
        "*4.4 Return a new array of zeros with same shape and type as a given array"
      ],
      "metadata": {
        "id": "hH5eePzwsRkK"
      }
    },
    {
      "cell_type": "code",
      "source": [
        "array_first=np.arange(1,5).reshape((2,2))\n",
        "array_4=np.zeros_like(array_first)\n",
        "print(\"---------------result--------------\")\n",
        "print(array_first)\n",
        "print(\"\")\n",
        "print(array_4)"
      ],
      "metadata": {
        "colab": {
          "base_uri": "https://localhost:8080/"
        },
        "id": "P_37beQPsZ2M",
        "outputId": "e99d61f1-65e9-4a7d-cc82-5218f20f32e9"
      },
      "execution_count": null,
      "outputs": [
        {
          "output_type": "stream",
          "name": "stdout",
          "text": [
            "---------------result--------------\n",
            "[[1 2]\n",
            " [3 4]]\n",
            "\n",
            "[[0 0]\n",
            " [0 0]]\n"
          ]
        }
      ]
    },
    {
      "cell_type": "markdown",
      "source": [
        "4.5 Return a new array of ones with same shape and type as given array."
      ],
      "metadata": {
        "id": "zqlduA5dsetE"
      }
    },
    {
      "cell_type": "code",
      "source": [
        "array_first1=np.arange(11,15).reshape((2,2))\n",
        "array_5=np.ones_like(array_first1)\n",
        "print(\"---------------result--------------\")\n",
        "print(array_first)\n",
        "print(\"\")\n",
        "print(array_5)"
      ],
      "metadata": {
        "colab": {
          "base_uri": "https://localhost:8080/"
        },
        "id": "ee8gsYPZsfTz",
        "outputId": "0d8a023b-263f-4bc2-f0dd-adac026be949"
      },
      "execution_count": null,
      "outputs": [
        {
          "output_type": "stream",
          "name": "stdout",
          "text": [
            "---------------result--------------\n",
            "[[1 2]\n",
            " [3 4]]\n",
            "\n",
            "[[1 1]\n",
            " [1 1]]\n"
          ]
        }
      ]
    },
    {
      "cell_type": "markdown",
      "source": [
        "4.6 For an existing list new_list = [1,2,3,4] convert to an numpy array."
      ],
      "metadata": {
        "id": "_bmYPH_xsir0"
      }
    },
    {
      "cell_type": "code",
      "source": [
        "new_list=[1,2,3,4]\n",
        "array_6=np.array(new_list)\n",
        "print(array_6)"
      ],
      "metadata": {
        "colab": {
          "base_uri": "https://localhost:8080/"
        },
        "id": "tge5C9MrsmI-",
        "outputId": "8d1b853d-3c2a-4d74-a7b5-86164be5478f"
      },
      "execution_count": null,
      "outputs": [
        {
          "output_type": "stream",
          "name": "stdout",
          "text": [
            "[1 2 3 4]\n"
          ]
        }
      ]
    },
    {
      "cell_type": "markdown",
      "source": [
        "4.1.1 Problem - 2: Array Manipulation: Numerical Ranges and Array indexing"
      ],
      "metadata": {
        "id": "rBTgRzlLspaD"
      }
    },
    {
      "cell_type": "markdown",
      "source": [
        "1.Creating an array with values ranging from 10 to 49."
      ],
      "metadata": {
        "id": "96VwvED4ssV7"
      }
    },
    {
      "cell_type": "code",
      "source": [
        "array1=np.arange(10,50)\n",
        "print(array1)"
      ],
      "metadata": {
        "colab": {
          "base_uri": "https://localhost:8080/"
        },
        "id": "Za_46_9jsusa",
        "outputId": "22b8c7d9-b5e5-4123-d987-d960fc7b89d0"
      },
      "execution_count": null,
      "outputs": [
        {
          "output_type": "stream",
          "name": "stdout",
          "text": [
            "[10 11 12 13 14 15 16 17 18 19 20 21 22 23 24 25 26 27 28 29 30 31 32 33\n",
            " 34 35 36 37 38 39 40 41 42 43 44 45 46 47 48 49]\n"
          ]
        }
      ]
    },
    {
      "cell_type": "markdown",
      "source": [
        "2. Creating a 3X3 matrix with values ranging from 0 to 8."
      ],
      "metadata": {
        "id": "tDjKYgMIszNq"
      }
    },
    {
      "cell_type": "code",
      "source": [
        "array2=np.arange(0,9).reshape((3,3))\n",
        "print(array2)"
      ],
      "metadata": {
        "colab": {
          "base_uri": "https://localhost:8080/"
        },
        "id": "NU5IusrlvyWC",
        "outputId": "d0428453-5e52-437b-d70b-2424ea480921"
      },
      "execution_count": null,
      "outputs": [
        {
          "output_type": "stream",
          "name": "stdout",
          "text": [
            "[[0 1 2]\n",
            " [3 4 5]\n",
            " [6 7 8]]\n"
          ]
        }
      ]
    },
    {
      "cell_type": "markdown",
      "source": [
        "3. Created a 3X3 identity matrix."
      ],
      "metadata": {
        "id": "MMK1z6Wtv1UK"
      }
    },
    {
      "cell_type": "code",
      "source": [
        "array3=np.eye(3)\n",
        "print(array3)"
      ],
      "metadata": {
        "colab": {
          "base_uri": "https://localhost:8080/"
        },
        "id": "jDXR_Vbjv3wM",
        "outputId": "b090430e-054f-4dd3-a6e4-badc68577a47"
      },
      "execution_count": null,
      "outputs": [
        {
          "output_type": "stream",
          "name": "stdout",
          "text": [
            "[[1. 0. 0.]\n",
            " [0. 1. 0.]\n",
            " [0. 0. 1.]]\n"
          ]
        }
      ]
    },
    {
      "cell_type": "markdown",
      "source": [
        "4.Create a random array of size 30 and find the mean of the array."
      ],
      "metadata": {
        "id": "qrMTy9Bjv7hu"
      }
    },
    {
      "cell_type": "code",
      "source": [
        "array4=np.random.random(79)\n",
        "mean_array=array4.mean()\n",
        "print(mean_array)"
      ],
      "metadata": {
        "colab": {
          "base_uri": "https://localhost:8080/"
        },
        "id": "yV-nflHFv8Nv",
        "outputId": "70d36da7-1131-472d-aa58-fd2e8d3cccad"
      },
      "execution_count": null,
      "outputs": [
        {
          "output_type": "stream",
          "name": "stdout",
          "text": [
            "0.49314716750087806\n"
          ]
        }
      ]
    },
    {
      "cell_type": "markdown",
      "source": [
        "5.Create a 10X10 array with random values and find the minimum and maximum values."
      ],
      "metadata": {
        "id": "7ZvEn-TAv-1l"
      }
    },
    {
      "cell_type": "code",
      "source": [
        "array5=np.random.random((10, 10))\n",
        "print(array5)\n",
        "print(f\"{array5.min()} is the minimum value in array\")\n",
        "print(f\"{array5.max()} is the maximum value in array\")"
      ],
      "metadata": {
        "colab": {
          "base_uri": "https://localhost:8080/"
        },
        "id": "OuQMW4ZbwBdI",
        "outputId": "2812cb19-c56b-4c1c-bffa-c6893b93d9fa"
      },
      "execution_count": null,
      "outputs": [
        {
          "output_type": "stream",
          "name": "stdout",
          "text": [
            "[[0.18037522 0.46255499 0.5610685  0.4529737  0.52559986 0.98284223\n",
            "  0.23385062 0.8302794  0.14047996 0.04995601]\n",
            " [0.79572135 0.95408928 0.03438855 0.02912508 0.86964574 0.09581555\n",
            "  0.7664588  0.36887504 0.86427651 0.0397528 ]\n",
            " [0.88184543 0.10669494 0.57191265 0.13767358 0.95595191 0.73024758\n",
            "  0.34723501 0.02126229 0.53763064 0.45173204]\n",
            " [0.3754479  0.81625927 0.74831902 0.17505689 0.23598641 0.9706295\n",
            "  0.25190875 0.56838272 0.31636064 0.88049415]\n",
            " [0.28323839 0.06414446 0.66282976 0.43530439 0.813112   0.57567168\n",
            "  0.61015733 0.59267163 0.46012327 0.07733505]\n",
            " [0.28047106 0.25817585 0.87057504 0.60530086 0.3495636  0.49254022\n",
            "  0.03998248 0.58544875 0.01087084 0.48150278]\n",
            " [0.37989112 0.09712051 0.8326497  0.95322444 0.43950202 0.91996788\n",
            "  0.34976897 0.65455069 0.13866485 0.74775446]\n",
            " [0.85238264 0.53087309 0.50934935 0.82962652 0.07558109 0.4309187\n",
            "  0.19012362 0.87327406 0.40915185 0.10504942]\n",
            " [0.91111269 0.23425318 0.31004665 0.60720777 0.67691752 0.35673431\n",
            "  0.23639947 0.04453637 0.77531741 0.4406167 ]\n",
            " [0.28354911 0.75551055 0.34375054 0.30753802 0.82358916 0.88184034\n",
            "  0.47657926 0.16745806 0.70554621 0.54908521]]\n",
            "0.01087083854357107 is the minimum value in array\n",
            "0.9828422253237442 is the maximum value in array\n"
          ]
        }
      ]
    },
    {
      "cell_type": "markdown",
      "source": [
        "6.Create a zero array of size 10 and replace 5th element with 1."
      ],
      "metadata": {
        "id": "wGnUl3dYwW0l"
      }
    },
    {
      "cell_type": "code",
      "source": [
        "array6=np.zeros(10)\n",
        "print(array6)\n",
        "print(\"\")\n",
        "array6[4]=1\n",
        "print(array6)\n"
      ],
      "metadata": {
        "colab": {
          "base_uri": "https://localhost:8080/"
        },
        "id": "r-JuewlAwZXB",
        "outputId": "21ca9663-003b-42ef-8fe8-4b2290540841"
      },
      "execution_count": null,
      "outputs": [
        {
          "output_type": "stream",
          "name": "stdout",
          "text": [
            "[0. 0. 0. 0. 0. 0. 0. 0. 0. 0.]\n",
            "\n",
            "[0. 0. 0. 0. 1. 0. 0. 0. 0. 0.]\n"
          ]
        }
      ]
    },
    {
      "cell_type": "markdown",
      "source": [
        "7.Reverse an array arr = [1,2,0,0,4,0]"
      ],
      "metadata": {
        "id": "ufWGkc--wcmE"
      }
    },
    {
      "cell_type": "code",
      "source": [
        "array7=np.array([1,2,0,0,4,0])\n",
        "res_array=array7[::-1]\n",
        "print(res_array)"
      ],
      "metadata": {
        "colab": {
          "base_uri": "https://localhost:8080/"
        },
        "id": "ZHv6cY34wggl",
        "outputId": "ee0e8d14-8847-4ecb-a3d7-7154441b45f7"
      },
      "execution_count": null,
      "outputs": [
        {
          "output_type": "stream",
          "name": "stdout",
          "text": [
            "[0 4 0 0 2 1]\n"
          ]
        }
      ]
    },
    {
      "cell_type": "markdown",
      "source": [
        "8. Create a 2d array with 1 on border and 0 inside."
      ],
      "metadata": {
        "id": "dO854olZwj3R"
      }
    },
    {
      "cell_type": "code",
      "source": [
        "border_array = np.ones((4, 4))\n",
        "border_array[1:-1, 1:-1] = 0\n",
        "print(\"result = \\n\", border_array)"
      ],
      "metadata": {
        "colab": {
          "base_uri": "https://localhost:8080/"
        },
        "id": "JwdUBS4MwkpZ",
        "outputId": "66f0ec6e-12ee-4a34-ac65-4b3f0e40c701"
      },
      "execution_count": null,
      "outputs": [
        {
          "output_type": "stream",
          "name": "stdout",
          "text": [
            "result = \n",
            " [[1. 1. 1. 1.]\n",
            " [1. 0. 0. 1.]\n",
            " [1. 0. 0. 1.]\n",
            " [1. 1. 1. 1.]]\n"
          ]
        }
      ]
    },
    {
      "cell_type": "markdown",
      "source": [
        "9. Create a 8X8 matrix and fill it with a checkerboard pattern."
      ],
      "metadata": {
        "id": "YowQ8-lAwnWN"
      }
    },
    {
      "cell_type": "code",
      "source": [
        "array8=np.indices((8, 8)).sum(axis=0) % 2\n",
        "print(\"result = \\n\",array8)"
      ],
      "metadata": {
        "colab": {
          "base_uri": "https://localhost:8080/"
        },
        "id": "sLblpibCwqvy",
        "outputId": "df813c37-6bd6-4f0f-b120-7992c6470157"
      },
      "execution_count": null,
      "outputs": [
        {
          "output_type": "stream",
          "name": "stdout",
          "text": [
            "result = \n",
            " [[0 1 0 1 0 1 0 1]\n",
            " [1 0 1 0 1 0 1 0]\n",
            " [0 1 0 1 0 1 0 1]\n",
            " [1 0 1 0 1 0 1 0]\n",
            " [0 1 0 1 0 1 0 1]\n",
            " [1 0 1 0 1 0 1 0]\n",
            " [0 1 0 1 0 1 0 1]\n",
            " [1 0 1 0 1 0 1 0]]\n"
          ]
        }
      ]
    },
    {
      "cell_type": "markdown",
      "source": [
        "3.Array Operations:"
      ],
      "metadata": {
        "id": "0SW5OR-twu20"
      }
    },
    {
      "cell_type": "code",
      "source": [
        "import numpy as np\n",
        "x = np.array([[1,2],[3,5]])\n",
        "y = np.array([[5,6],[7,8]])\n",
        "v = np.array([9,10])\n",
        "w = np.array([11,12])\n",
        "\n",
        "# 1. Add the two array.\n",
        "print(\"Add : \\n\",np.add(x,y))\n",
        "\n",
        "#2. Subtract the two array.\n",
        "print(\"subtract : \\n\",np.subtract(x,y))\n",
        "\n",
        "# 3. Multiply the array with any integers of your choice.\n",
        "print(\"multiply : \\n\",np.multiply(3,x))\n",
        "\n",
        "# 4. Find the square of each element of the array.\n",
        "print(\"square : \\n\",np.square(x))\n",
        "\n",
        "# 5. Find the dot product between: v(and)w ; x(and)v ; x(and)y.\n",
        "print(\"dot product of v(and)w : \",np.dot(v,w))\n",
        "print(\"dot product of x(and)v : \\n\",np.dot(x,v))\n",
        "print(\"dot product of x(and)y : \\n\",np.dot(x,y))\n",
        "\n",
        "\n",
        "# 6. Concatenate x(and)y along row and Concatenate v(and)w along column.\n",
        "concat_row=np.concatenate((x, y), axis=0)\n",
        "concat_col=np.vstack((v, w)).T\n",
        "print(\"Concatenate x(and)y along row : \\n\",concat_row)\n",
        "print(\"Concatenate v(and)w along column : \\n\",concat_col)\n",
        "\n",
        "# 7. Concatenate x(and)v; if you get an error, observe and explain why did you get the error?\n",
        "try:\n",
        "    concat_xv = np.concatenate((x, v), axis=0)  # Attempt to concatenate along rows\n",
        "    print(\"\\nConcatenation of x and v:\\n\", concat_xv)\n",
        "except ValueError as e:\n",
        "    print(\"\\nError during concatenation of x and v:\", e)\n",
        "\n",
        "# error because v and x didn't have matching dimensions\n",
        "# Fixing the error by reshaping v to match x's dimensions\n",
        "v_reshaped = v[np.newaxis, :]  # Reshape v to (1, 2)\n",
        "concat_xv_fixed = np.concatenate((x, v_reshaped), axis=0)\n",
        "print(\"\\nConcatenation of x and reshaped v:\\n\", concat_xv_fixed)\n",
        "\n"
      ],
      "metadata": {
        "colab": {
          "base_uri": "https://localhost:8080/"
        },
        "id": "HtBCoQhwww7u",
        "outputId": "1b8781d7-14ea-44bf-81d6-4b1d29ab2fef"
      },
      "execution_count": null,
      "outputs": [
        {
          "output_type": "stream",
          "name": "stdout",
          "text": [
            "Add : \n",
            " [[ 6  8]\n",
            " [10 13]]\n",
            "subtract : \n",
            " [[-4 -4]\n",
            " [-4 -3]]\n",
            "multiply : \n",
            " [[ 3  6]\n",
            " [ 9 15]]\n",
            "square : \n",
            " [[ 1  4]\n",
            " [ 9 25]]\n",
            "dot product of v(and)w :  219\n",
            "dot product of x(and)v : \n",
            " [29 77]\n",
            "dot product of x(and)y : \n",
            " [[19 22]\n",
            " [50 58]]\n",
            "Concatenate x(and)y along row : \n",
            " [[1 2]\n",
            " [3 5]\n",
            " [5 6]\n",
            " [7 8]]\n",
            "Concatenate v(and)w along column : \n",
            " [[ 9 11]\n",
            " [10 12]]\n",
            "\n",
            "Error during concatenation of x and v: all the input arrays must have same number of dimensions, but the array at index 0 has 2 dimension(s) and the array at index 1 has 1 dimension(s)\n",
            "\n",
            "Concatenation of x and reshaped v:\n",
            " [[ 1  2]\n",
            " [ 3  5]\n",
            " [ 9 10]]\n"
          ]
        }
      ]
    },
    {
      "cell_type": "markdown",
      "source": [
        "4.Matrix operations"
      ],
      "metadata": {
        "id": "hJPz9zLow17k"
      }
    },
    {
      "cell_type": "markdown",
      "source": [
        "4.1 prove:"
      ],
      "metadata": {
        "id": "LaSvE-RAw-sp"
      }
    },
    {
      "cell_type": "code",
      "source": [
        "import numpy as np\n",
        "A = np.array([[3,4],[7,8]])\n",
        "B = np.array([[5,3],[2,1]])\n",
        "\n",
        "# 1. Prove A.A−1 = I.\n",
        "inverse_of_A=np.linalg.inv(A)\n",
        "product=np.dot(A,inverse_of_A)\n",
        "print(\"A.A−1 = I \\n\",product)\n",
        "\n",
        "\n",
        "# 2. Prove AB ̸= BA.\n",
        "product_of_A_B=np.dot(A,B)\n",
        "product_of_B_A=np.dot(B,A)\n",
        "print(\"A.B = \\n\",product_of_A_B)\n",
        "print(\"B.A = \\n\",product_of_B_A)\n",
        "check=np.array_equal(product_of_A_B,product_of_B_A)\n",
        "print(\"A.B = B.A ? ->\",check)\n",
        "\n",
        "# 3. Prove (AB)ᵀ = Bᵀ . Aᵀ\n",
        "AB_T=np.transpose(product_of_A_B)\n",
        "B_T=np.transpose(B)\n",
        "A_T=np.transpose(A)\n",
        "product_of_BT_AT=np.dot(B_T,A_T)\n",
        "print(\"(AB)ᵀ = \\n\",AB_T)\n",
        "print(\" Bᵀ. Aᵀ = \\n\",product_of_BT_AT)\n",
        "check=np.array_equal(AB_T,product_of_BT_AT)\n",
        "print(\"(AB)ᵀ = Bᵀ . Aᵀ ? ->\",check)\n",
        "\n",
        "\n",
        "\n",
        "\n",
        "\n"
      ],
      "metadata": {
        "colab": {
          "base_uri": "https://localhost:8080/"
        },
        "id": "SD_3Rf2nw7Bb",
        "outputId": "53103451-ee09-4184-e94d-01aef9fbcd28"
      },
      "execution_count": null,
      "outputs": [
        {
          "output_type": "stream",
          "name": "stdout",
          "text": [
            "A.A−1 = I \n",
            " [[1.00000000e+00 0.00000000e+00]\n",
            " [1.77635684e-15 1.00000000e+00]]\n",
            "A.B = \n",
            " [[23 13]\n",
            " [51 29]]\n",
            "B.A = \n",
            " [[36 44]\n",
            " [13 16]]\n",
            "A.B = B.A ? -> False\n",
            "(AB)ᵀ = \n",
            " [[23 51]\n",
            " [13 29]]\n",
            " Bᵀ. Aᵀ = \n",
            " [[23 51]\n",
            " [13 29]]\n",
            "(AB)ᵀ = Bᵀ . Aᵀ ? -> True\n"
          ]
        }
      ]
    },
    {
      "cell_type": "markdown",
      "source": [
        "4.2 Solve the following system of Linear equation using Inverse Methods."
      ],
      "metadata": {
        "id": "tnHRJx9lxDzk"
      }
    },
    {
      "cell_type": "code",
      "source": [
        "# Solve the following system of Linear equation using Inverse Methods.\n",
        "# 2x − 3y + z = −1\n",
        "# x − y + 2z = −3\n",
        "# 3x + y − z = 9\n",
        "# {Hint: First use Numpy array to represent the equation in Matrix form. Then Solve for: AX = B}\n",
        "A = np.array([[2, -3, 1],\n",
        "              [1, -1, 2],\n",
        "              [3, 1, -1]])\n",
        "\n",
        "B = np.array([-1, -3, 9])\n",
        "\n",
        "det_A = (A[0, 0] * (A[1, 1] * A[2, 2] - A[1, 2] * A[2, 1]) -\n",
        "         A[0, 1] * (A[1, 0] * A[2, 2] - A[1, 2] * A[2, 0]) +\n",
        "         A[0, 2] * (A[1, 0] * A[2, 1] - A[1, 1] * A[2, 0]))\n",
        "if det_A != 0:\n",
        "  cofactor_matrix = np.array([\n",
        "    [(A[1, 1] * A[2, 2] - A[1, 2] * A[2, 1]), -(A[1, 0] * A[2, 2] - A[1, 2] * A[2, 0]), (A[1, 0] * A[2, 1] - A[1, 1] * A[2, 0])],\n",
        "    [-(A[0, 1] * A[2, 2] - A[0, 2] * A[2, 1]), (A[0, 0] * A[2, 2] - A[0, 2] * A[2, 0]), -(A[0, 0] * A[2, 1] - A[0, 1] * A[2, 0])],\n",
        "    [(A[0, 1] * A[1, 2] - A[0, 2] * A[1, 1]), -(A[0, 0] * A[1, 2] - A[0, 2] * A[1, 0]), (A[0, 0] * A[1, 1] - A[0, 1] * A[1, 0])]\n",
        "])\n",
        "  adjoint_A = cofactor_matrix.T\n",
        "  inverse_of_A = adjoint_A / det_A\n",
        "  print(\"Inverse of A:\\n\", inverse_of_A)\n",
        "  X = np.dot(inverse_of_A,B)\n",
        "  print(\"Solution = \",X)\n",
        "\n",
        "else:\n",
        "  print(\"No solution exists as the determinant of A is zero.\")\n"
      ],
      "metadata": {
        "colab": {
          "base_uri": "https://localhost:8080/"
        },
        "id": "8MtAE4-axIfR",
        "outputId": "0595a84b-751d-41b9-c7ac-880feccbb4a5"
      },
      "execution_count": null,
      "outputs": [
        {
          "output_type": "stream",
          "name": "stdout",
          "text": [
            "Inverse of A:\n",
            " [[ 0.05263158  0.10526316  0.26315789]\n",
            " [-0.36842105  0.26315789  0.15789474]\n",
            " [-0.21052632  0.57894737 -0.05263158]]\n",
            "Solution =  [ 2.  1. -2.]\n"
          ]
        }
      ]
    },
    {
      "cell_type": "code",
      "source": [
        "# Solve the following system of Linear equation using Inverse Methods.\n",
        "# 2x − 3y + z = −1\n",
        "# x − y + 2z = −3\n",
        "# 3x + y − z = 9\n",
        "# solve the above equation using np.linalg.inv function\n",
        "A = np.array([[2, -3, 1],\n",
        "              [1, -1, 2],\n",
        "              [3, 1, -1]])\n",
        "\n",
        "B = np.array([-1, -3, 9])\n",
        "\n",
        "det_A=np.linalg.det(A)\n",
        "# AX = B\n",
        "# or,X= A⁻¹ * B\n",
        "if det_A != 0:\n",
        "    inverse_of_A = np.linalg.inv(A)\n",
        "    X = np.dot(inverse_of_A, B)\n",
        "    print(\"Solution = \",X)\n",
        "else:\n",
        "  print(\"No solution exists as the determinant of A is zero.\")"
      ],
      "metadata": {
        "colab": {
          "base_uri": "https://localhost:8080/"
        },
        "id": "0MiJEGLlxXLo",
        "outputId": "85ef0842-820a-41ff-9771-d623f83eeadf"
      },
      "execution_count": null,
      "outputs": [
        {
          "output_type": "stream",
          "name": "stdout",
          "text": [
            "Solution =  [ 2.  1. -2.]\n"
          ]
        }
      ]
    },
    {
      "cell_type": "markdown",
      "source": [
        "4.2 Experiment : How Fast is Numpy"
      ],
      "metadata": {
        "id": "VLeQjOGOxaSh"
      }
    },
    {
      "cell_type": "markdown",
      "source": [
        "1. Element-wise Add"
      ],
      "metadata": {
        "id": "os85QyBSxcnz"
      }
    },
    {
      "cell_type": "code",
      "source": [
        "import time\n",
        "\n",
        "#Using Python Lists, perform element-wise addition of two lists of size 1, 000, 000. Measure\n",
        "#and Print the time taken for this operation.\n",
        "list1=[i for i in range(1000000)]\n",
        "list2=[i for i in range(1000000)]\n",
        "start_time=time.time()\n",
        "result=[list1[i]+list2[i] for i in range(len(list1))]\n",
        "end_time=time.time()\n",
        "time_taken=end_time-start_time\n",
        "print(f\"time taken by python list = {time_taken} second\")\n",
        "\n",
        "#Using Numpy Arrays, Repeat the calculation and measure and print the time taken for this\n",
        "#operation.\n",
        "array_1=np.array(list1)\n",
        "array_2=np.array(list2)\n",
        "start_time=time.time()\n",
        "result=array_1+array_2\n",
        "end_time=time.time()\n",
        "time_taken=end_time-start_time\n",
        "print(f\"time taken by numpy array = {time_taken} second\")"
      ],
      "metadata": {
        "colab": {
          "base_uri": "https://localhost:8080/"
        },
        "id": "O2SYKoJ6xa0C",
        "outputId": "264110f7-8da2-433b-ec3e-e0797d12bab1"
      },
      "execution_count": null,
      "outputs": [
        {
          "output_type": "stream",
          "name": "stdout",
          "text": [
            "time taken by python list = 0.12944769859313965 second\n",
            "time taken by numpy array = 0.007074117660522461 second\n"
          ]
        }
      ]
    },
    {
      "cell_type": "markdown",
      "source": [
        "2. Element-wise Multiplication"
      ],
      "metadata": {
        "id": "bAmMOUrsxiUN"
      }
    },
    {
      "cell_type": "code",
      "source": [
        "import time\n",
        "\n",
        "#Using Python Lists, perform element-wise multiplication of two lists of size 1, 000, 000. Mea-sure and Print the time taken for this operation.\n",
        "list1=[i for i in range(1000000)]\n",
        "list2=[i for i in range(1000000)]\n",
        "start_time=time.time()\n",
        "result=[list1[i]*list2[i] for i in range(len(list1))]\n",
        "end_time=time.time()\n",
        "time_taken=end_time-start_time\n",
        "print(f\"time taken by python list = {time_taken} second\")\n",
        "\n",
        "#Using Numpy Arrays, Repeat the calculation and measure and print the time taken for this operation.\n",
        "array_1=np.array(list1)\n",
        "array_2=np.array(list2)\n",
        "start_time=time.time()\n",
        "result=array_1*array_2\n",
        "end_time=time.time()\n",
        "time_taken=end_time-start_time\n",
        "print(f\"time taken by numpy array = {time_taken} second\")"
      ],
      "metadata": {
        "colab": {
          "base_uri": "https://localhost:8080/"
        },
        "id": "ggVPEjQNxi7j",
        "outputId": "d9114f7f-79ab-4ee0-fa9f-e579f0270d5c"
      },
      "execution_count": null,
      "outputs": [
        {
          "output_type": "stream",
          "name": "stdout",
          "text": [
            "time taken by python list = 0.1189417839050293 second\n",
            "time taken by numpy array = 0.027172327041625977 second\n"
          ]
        }
      ]
    },
    {
      "cell_type": "markdown",
      "source": [
        "3. Dot Product"
      ],
      "metadata": {
        "id": "Sj955VLbxn6D"
      }
    },
    {
      "cell_type": "code",
      "source": [
        "import time\n",
        "\n",
        "#Using Python Lists, compute the dot product of two lists of size 1, 000, 000. Measure and Print the time taken for this operation.\n",
        "list1=[i for i in range(1000000)]\n",
        "list2=[i for i in range(1000000)]\n",
        "start_time=time.time()\n",
        "result=sum(list1[i] * list2[i] for i in range(len(list1)))\n",
        "end_time=time.time()\n",
        "time_taken=end_time-start_time\n",
        "print(f\"time taken by python list = {time_taken} second\")\n",
        "\n",
        "#Using Numpy Arrays, Repeat the calculation and measure and print the time taken for this operation.\n",
        "array_1=np.array(list1)\n",
        "array_2=np.array(list2)\n",
        "start_time=time.time()\n",
        "result=np.dot(array_1,array_2)\n",
        "end_time=time.time()\n",
        "time_taken=end_time-start_time\n",
        "print(f\"time taken by numpy array = {time_taken} second\")"
      ],
      "metadata": {
        "colab": {
          "base_uri": "https://localhost:8080/"
        },
        "id": "5wGCE2hqxq_C",
        "outputId": "b6d77e02-ab2e-4811-f61d-3936b1a7c0eb"
      },
      "execution_count": null,
      "outputs": [
        {
          "output_type": "stream",
          "name": "stdout",
          "text": [
            "time taken by python list = 0.14185476303100586 second\n",
            "time taken by numpy array = 0.002291440963745117 second\n"
          ]
        }
      ]
    },
    {
      "cell_type": "markdown",
      "source": [
        "4. Matrix Multiplication"
      ],
      "metadata": {
        "id": "FR69ZcRexunv"
      }
    },
    {
      "cell_type": "code",
      "source": [
        "import time\n",
        "\n",
        "#Using Python lists, perform matrix multiplication of two matrices of size 1000x1000. Measure and print the time taken for this operation.\n",
        "print(\"4. Matrix Multiplication\")\n",
        "size = 100\n",
        "\n",
        "\n",
        "matrix_1 = [[i for i in range(size)] for _ in range(size)]\n",
        "matrix_2 = [[j for j in range(size)] for _ in range(size)]\n",
        "\n",
        "start_time = time.time()\n",
        "result_matrix = [[sum(a * b for a, b in zip(row, col)) for col in zip(*matrix_2)] for row in matrix_1]\n",
        "end_time = time.time()\n",
        "time_taken = end_time - start_time\n",
        "print(f\"time taken by python list = {time_taken} second\")\n",
        "\n",
        "# Using NumPy arrays, perform matrix multiplication of two matrices of size 1000x1000. Measure and print the time taken for this operation.\n",
        "matrix1_np = np.array(matrix_1)\n",
        "matrix2_np = np.array(matrix_2)\n",
        "\n",
        "start_time = time.time()\n",
        "result_matrix_np = np.dot(matrix1_np, matrix2_np)\n",
        "end_time = time.time()\n",
        "time_taken = end_time - start_time\n",
        "print(f\"time taken by python list = {time_taken} second\")"
      ],
      "metadata": {
        "colab": {
          "base_uri": "https://localhost:8080/"
        },
        "id": "XrJU4JJKxxGu",
        "outputId": "43a65bab-1f3e-4cd6-c887-0f476ede5107"
      },
      "execution_count": null,
      "outputs": [
        {
          "output_type": "stream",
          "name": "stdout",
          "text": [
            "4. Matrix Multiplication\n",
            "time taken by python list = 0.08334231376647949 second\n",
            "time taken by python list = 0.0014276504516601562 second\n"
          ]
        }
      ]
    }
  ]
}